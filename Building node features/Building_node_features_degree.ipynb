{
 "cells": [
  {
   "cell_type": "markdown",
   "metadata": {},
   "source": [
    "## - Read adjacency matrix of PROTEINS dataset"
   ]
  },
  {
   "cell_type": "code",
   "execution_count": 23,
   "metadata": {},
   "outputs": [],
   "source": [
    "from os.path import join as pjoin\n",
    "import numpy as np\n",
    "\n",
    "def parse_txt_file(fpath, line_parse_fn=None):\n",
    "    with open(pjoin(data_dir, fpath), 'r') as f:\n",
    "        lines = f.readlines()\n",
    "    data = [line_parse_fn(s) if line_parse_fn is not None else s for s in lines]\n",
    "    \n",
    "    print(len(data))\n",
    "    \n",
    "    return data\n",
    "\n",
    "def read_graph_nodes_relations(fpath):\n",
    "    graph_ids = parse_txt_file(fpath, line_parse_fn=lambda s: int(s.rstrip()))\n",
    "    nodes, graphs = {}, {}\n",
    "    for node_id, graph_id in enumerate(graph_ids):\n",
    "        if graph_id not in graphs:\n",
    "            graphs[graph_id] = []\n",
    "        graphs[graph_id].append(node_id)\n",
    "        nodes[node_id] = graph_id\n",
    "    graph_ids = np.unique(list(graphs.keys()))\n",
    "    for graph_id in graphs:\n",
    "        graphs[graph_id] = np.array(graphs[graph_id])\n",
    "    return nodes, graphs\n",
    "\n",
    "def read_graph_adj(fpath, nodes, graphs):\n",
    "    edges = parse_txt_file(fpath, line_parse_fn=lambda s: s.split(','))\n",
    "    adj_dict = {}\n",
    "    for edge in edges:\n",
    "        node1 = int(edge[0].strip()) - 1  # -1 because of zero-indexing in our code\n",
    "        node2 = int(edge[1].strip()) - 1\n",
    "        graph_id = nodes[node1]\n",
    "        assert graph_id == nodes[node2], ('invalid data', graph_id, nodes[node2])\n",
    "        if graph_id not in adj_dict:\n",
    "            n = len(graphs[graph_id])\n",
    "            adj_dict[graph_id] = np.zeros((n, n))\n",
    "        ind1 = np.where(graphs[graph_id] == node1)[0]\n",
    "        ind2 = np.where(graphs[graph_id] == node2)[0]\n",
    "        assert len(ind1) == len(ind2) == 1, (ind1, ind2)\n",
    "        adj_dict[graph_id][ind1, ind2] = 1\n",
    "\n",
    "    return [adj_dict[graph_id] for graph_id in sorted(list(graphs.keys()))]"
   ]
  },
  {
   "cell_type": "code",
   "execution_count": 24,
   "metadata": {},
   "outputs": [],
   "source": [
    "data_dir = './data/COLLAB/'"
   ]
  },
  {
   "cell_type": "code",
   "execution_count": 25,
   "metadata": {},
   "outputs": [
    {
     "name": "stdout",
     "output_type": "stream",
     "text": [
      "['COLLAB_A.txt', 'COLLAB_graph_indicator.txt', 'COLLAB_graph_labels.txt~', 'COLLAB_graph_labels.txt']\n"
     ]
    }
   ],
   "source": [
    "import os\n",
    "\n",
    "files = os.listdir(data_dir)\n",
    "print(files)"
   ]
  },
  {
   "cell_type": "code",
   "execution_count": 26,
   "metadata": {},
   "outputs": [
    {
     "name": "stdout",
     "output_type": "stream",
     "text": [
      "372474\n",
      "49149990\n"
     ]
    }
   ],
   "source": [
    "nodes, graphs = read_graph_nodes_relations(list(filter(lambda f: f.find('graph_indicator') >= 0, files))[0])\n",
    "adj_list = read_graph_adj(list(filter(lambda f: f.find('_A') >= 0, files))[0], nodes, graphs)  "
   ]
  },
  {
   "cell_type": "code",
   "execution_count": 27,
   "metadata": {},
   "outputs": [
    {
     "data": {
      "text/plain": [
       "array([ 0,  1,  2,  3,  4,  5,  6,  7,  8,  9, 10, 11, 12, 13, 14, 15, 16,\n",
       "       17, 18, 19, 20, 21, 22, 23, 24, 25, 26, 27, 28, 29, 30, 31, 32, 33,\n",
       "       34, 35, 36, 37, 38, 39, 40, 41, 42, 43, 44])"
      ]
     },
     "execution_count": 27,
     "metadata": {},
     "output_type": "execute_result"
    }
   ],
   "source": [
    "graphs[1]"
   ]
  },
  {
   "cell_type": "code",
   "execution_count": 28,
   "metadata": {},
   "outputs": [
    {
     "data": {
      "text/plain": [
       "array([45, 46, 47, 48, 49, 50, 51, 52, 53, 54, 55, 56, 57, 58, 59, 60, 61,\n",
       "       62, 63, 64, 65, 66, 67, 68, 69, 70, 71, 72, 73, 74, 75, 76, 77, 78,\n",
       "       79, 80, 81, 82, 83, 84, 85, 86, 87, 88, 89, 90, 91, 92, 93, 94, 95,\n",
       "       96])"
      ]
     },
     "execution_count": 28,
     "metadata": {},
     "output_type": "execute_result"
    }
   ],
   "source": [
    "graphs[2]"
   ]
  },
  {
   "cell_type": "code",
   "execution_count": 29,
   "metadata": {},
   "outputs": [
    {
     "data": {
      "text/plain": [
       "array([[0., 1., 1., ..., 1., 1., 1.],\n",
       "       [1., 0., 1., ..., 1., 1., 1.],\n",
       "       [1., 1., 0., ..., 1., 1., 1.],\n",
       "       ...,\n",
       "       [1., 1., 1., ..., 0., 1., 1.],\n",
       "       [1., 1., 1., ..., 1., 0., 1.],\n",
       "       [1., 1., 1., ..., 1., 1., 0.]])"
      ]
     },
     "execution_count": 29,
     "metadata": {},
     "output_type": "execute_result"
    }
   ],
   "source": [
    "adj_list[0]"
   ]
  },
  {
   "cell_type": "code",
   "execution_count": 30,
   "metadata": {},
   "outputs": [
    {
     "data": {
      "text/plain": [
       "45"
      ]
     },
     "execution_count": 30,
     "metadata": {},
     "output_type": "execute_result"
    }
   ],
   "source": [
    "len(adj_list[0])"
   ]
  },
  {
   "cell_type": "code",
   "execution_count": 31,
   "metadata": {},
   "outputs": [
    {
     "data": {
      "text/plain": [
       "array([[0., 0., 1., ..., 1., 1., 1.],\n",
       "       [0., 0., 1., ..., 1., 1., 0.],\n",
       "       [1., 1., 0., ..., 1., 1., 1.],\n",
       "       ...,\n",
       "       [1., 1., 1., ..., 0., 1., 1.],\n",
       "       [1., 1., 1., ..., 1., 0., 1.],\n",
       "       [1., 0., 1., ..., 1., 1., 0.]])"
      ]
     },
     "execution_count": 31,
     "metadata": {},
     "output_type": "execute_result"
    }
   ],
   "source": [
    "adj_list[1]"
   ]
  },
  {
   "cell_type": "code",
   "execution_count": 32,
   "metadata": {},
   "outputs": [
    {
     "data": {
      "text/plain": [
       "52"
      ]
     },
     "execution_count": 32,
     "metadata": {},
     "output_type": "execute_result"
    }
   ],
   "source": [
    "len(adj_list[1])"
   ]
  },
  {
   "cell_type": "markdown",
   "metadata": {},
   "source": [
    "## - Build degree node features list by adjacency matrix"
   ]
  },
  {
   "cell_type": "markdown",
   "metadata": {},
   "source": [
    "- Node features list structure example   \n",
    "0: graph 1 / node 1 feature   \n",
    "1: graph 1 / node 2 feature   \n",
    "2: graph 1 / node 3 feature   \n",
    "3: graph 2 / node 1 faeture   \n",
    "...   \n",
    "100: graph n / node 7 feature   \n",
    "- Node features list needs to use together with graph indicator file to recognize where each node feature includes in which graph"
   ]
  },
  {
   "cell_type": "markdown",
   "metadata": {},
   "source": [
    "### - Numpy array to NetworkX"
   ]
  },
  {
   "cell_type": "code",
   "execution_count": 33,
   "metadata": {},
   "outputs": [],
   "source": [
    "import networkx as nx\n",
    "\n",
    "G=nx.from_numpy_matrix(np.array(adj_list)[0])\n",
    "G2=nx.from_numpy_matrix(np.array(adj_list)[1])"
   ]
  },
  {
   "cell_type": "markdown",
   "metadata": {},
   "source": [
    "### - Get degree of graph using NetworkX"
   ]
  },
  {
   "cell_type": "code",
   "execution_count": 34,
   "metadata": {},
   "outputs": [
    {
     "data": {
      "text/plain": [
       "DegreeView({0: 44, 1: 44, 2: 44, 3: 44, 4: 44, 5: 44, 6: 44, 7: 44, 8: 44, 9: 44, 10: 44, 11: 44, 12: 44, 13: 44, 14: 44, 15: 44, 16: 44, 17: 44, 18: 44, 19: 44, 20: 44, 21: 44, 22: 44, 23: 44, 24: 44, 25: 44, 26: 44, 27: 44, 28: 44, 29: 44, 30: 44, 31: 44, 32: 44, 33: 44, 34: 44, 35: 44, 36: 44, 37: 44, 38: 44, 39: 44, 40: 44, 41: 44, 42: 44, 43: 44, 44: 44})"
      ]
     },
     "execution_count": 34,
     "metadata": {},
     "output_type": "execute_result"
    }
   ],
   "source": [
    "G.degree()"
   ]
  },
  {
   "cell_type": "code",
   "execution_count": 35,
   "metadata": {},
   "outputs": [
    {
     "data": {
      "text/plain": [
       "DegreeView({0: 35, 1: 36, 2: 51, 3: 51, 4: 37, 5: 51, 6: 28, 7: 51, 8: 39, 9: 33, 10: 51, 11: 52, 12: 45, 13: 51, 14: 51, 15: 28, 16: 35, 17: 51, 18: 49, 19: 38, 20: 31, 21: 45, 22: 51, 23: 35, 24: 51, 25: 39, 26: 51, 27: 38, 28: 45, 29: 50, 30: 28, 31: 36, 32: 49, 33: 30, 34: 44, 35: 45, 36: 51, 37: 22, 38: 31, 39: 45, 40: 36, 41: 39, 42: 48, 43: 51, 44: 39, 45: 38, 46: 35, 47: 45, 48: 38, 49: 51, 50: 51, 51: 39})"
      ]
     },
     "execution_count": 35,
     "metadata": {},
     "output_type": "execute_result"
    }
   ],
   "source": [
    "G2.degree()"
   ]
  },
  {
   "cell_type": "code",
   "execution_count": 36,
   "metadata": {},
   "outputs": [
    {
     "data": {
      "text/plain": [
       "[(0, 35),\n",
       " (1, 36),\n",
       " (2, 51),\n",
       " (3, 51),\n",
       " (4, 37),\n",
       " (5, 51),\n",
       " (6, 28),\n",
       " (7, 51),\n",
       " (8, 39),\n",
       " (9, 33),\n",
       " (10, 51),\n",
       " (11, 52),\n",
       " (12, 45),\n",
       " (13, 51),\n",
       " (14, 51),\n",
       " (15, 28),\n",
       " (16, 35),\n",
       " (17, 51),\n",
       " (18, 49),\n",
       " (19, 38),\n",
       " (20, 31),\n",
       " (21, 45),\n",
       " (22, 51),\n",
       " (23, 35),\n",
       " (24, 51),\n",
       " (25, 39),\n",
       " (26, 51),\n",
       " (27, 38),\n",
       " (28, 45),\n",
       " (29, 50),\n",
       " (30, 28),\n",
       " (31, 36),\n",
       " (32, 49),\n",
       " (33, 30),\n",
       " (34, 44),\n",
       " (35, 45),\n",
       " (36, 51),\n",
       " (37, 22),\n",
       " (38, 31),\n",
       " (39, 45),\n",
       " (40, 36),\n",
       " (41, 39),\n",
       " (42, 48),\n",
       " (43, 51),\n",
       " (44, 39),\n",
       " (45, 38),\n",
       " (46, 35),\n",
       " (47, 45),\n",
       " (48, 38),\n",
       " (49, 51),\n",
       " (50, 51),\n",
       " (51, 39)]"
      ]
     },
     "execution_count": 36,
     "metadata": {},
     "output_type": "execute_result"
    }
   ],
   "source": [
    "list(G2.degree())"
   ]
  },
  {
   "cell_type": "markdown",
   "metadata": {},
   "source": [
    "### - Build degree node features list"
   ]
  },
  {
   "cell_type": "code",
   "execution_count": 42,
   "metadata": {},
   "outputs": [],
   "source": [
    "def get_node_features_degree(adj_list):\n",
    "    node_features_list = []\n",
    "    \n",
    "    for adj in adj_list:\n",
    "        sub_list = []\n",
    "        for feature in nx.from_numpy_matrix(np.array(adj)).degree():\n",
    "            sub_list.append(feature[1])\n",
    "        node_features_list.append(sub_list)\n",
    "    \n",
    "    return node_features_list"
   ]
  },
  {
   "cell_type": "code",
   "execution_count": 43,
   "metadata": {},
   "outputs": [],
   "source": [
    "node_features_lst = get_node_features_degree(adj_list)"
   ]
  },
  {
   "cell_type": "code",
   "execution_count": 44,
   "metadata": {},
   "outputs": [
    {
     "data": {
      "text/plain": [
       "(372474, 5000)"
      ]
     },
     "execution_count": 44,
     "metadata": {},
     "output_type": "execute_result"
    }
   ],
   "source": [
    "len(nodes), len(node_features_lst)"
   ]
  },
  {
   "cell_type": "code",
   "execution_count": 47,
   "metadata": {},
   "outputs": [
    {
     "data": {
      "text/plain": [
       "[[44,\n",
       "  44,\n",
       "  44,\n",
       "  44,\n",
       "  44,\n",
       "  44,\n",
       "  44,\n",
       "  44,\n",
       "  44,\n",
       "  44,\n",
       "  44,\n",
       "  44,\n",
       "  44,\n",
       "  44,\n",
       "  44,\n",
       "  44,\n",
       "  44,\n",
       "  44,\n",
       "  44,\n",
       "  44,\n",
       "  44,\n",
       "  44,\n",
       "  44,\n",
       "  44,\n",
       "  44,\n",
       "  44,\n",
       "  44,\n",
       "  44,\n",
       "  44,\n",
       "  44,\n",
       "  44,\n",
       "  44,\n",
       "  44,\n",
       "  44,\n",
       "  44,\n",
       "  44,\n",
       "  44,\n",
       "  44,\n",
       "  44,\n",
       "  44,\n",
       "  44,\n",
       "  44,\n",
       "  44,\n",
       "  44,\n",
       "  44],\n",
       " [35,\n",
       "  36,\n",
       "  51,\n",
       "  51,\n",
       "  37,\n",
       "  51,\n",
       "  28,\n",
       "  51,\n",
       "  39,\n",
       "  33,\n",
       "  51,\n",
       "  52,\n",
       "  45,\n",
       "  51,\n",
       "  51,\n",
       "  28,\n",
       "  35,\n",
       "  51,\n",
       "  49,\n",
       "  38,\n",
       "  31,\n",
       "  45,\n",
       "  51,\n",
       "  35,\n",
       "  51,\n",
       "  39,\n",
       "  51,\n",
       "  38,\n",
       "  45,\n",
       "  50,\n",
       "  28,\n",
       "  36,\n",
       "  49,\n",
       "  30,\n",
       "  44,\n",
       "  45,\n",
       "  51,\n",
       "  22,\n",
       "  31,\n",
       "  45,\n",
       "  36,\n",
       "  39,\n",
       "  48,\n",
       "  51,\n",
       "  39,\n",
       "  38,\n",
       "  35,\n",
       "  45,\n",
       "  38,\n",
       "  51,\n",
       "  51,\n",
       "  39],\n",
       " [37,\n",
       "  41,\n",
       "  44,\n",
       "  47,\n",
       "  47,\n",
       "  47,\n",
       "  44,\n",
       "  44,\n",
       "  41,\n",
       "  41,\n",
       "  44,\n",
       "  44,\n",
       "  41,\n",
       "  23,\n",
       "  4,\n",
       "  44,\n",
       "  41,\n",
       "  47,\n",
       "  47,\n",
       "  47,\n",
       "  47,\n",
       "  47,\n",
       "  47,\n",
       "  44,\n",
       "  47,\n",
       "  41,\n",
       "  4,\n",
       "  47,\n",
       "  44,\n",
       "  37,\n",
       "  45,\n",
       "  47,\n",
       "  41,\n",
       "  23,\n",
       "  47,\n",
       "  51,\n",
       "  41,\n",
       "  47,\n",
       "  47,\n",
       "  41,\n",
       "  4,\n",
       "  47,\n",
       "  23,\n",
       "  44,\n",
       "  4,\n",
       "  41,\n",
       "  33,\n",
       "  45,\n",
       "  47,\n",
       "  47,\n",
       "  44,\n",
       "  47],\n",
       " [31,\n",
       "  31,\n",
       "  31,\n",
       "  31,\n",
       "  31,\n",
       "  31,\n",
       "  31,\n",
       "  31,\n",
       "  31,\n",
       "  31,\n",
       "  31,\n",
       "  31,\n",
       "  31,\n",
       "  31,\n",
       "  31,\n",
       "  31,\n",
       "  31,\n",
       "  31,\n",
       "  31,\n",
       "  31,\n",
       "  31,\n",
       "  31,\n",
       "  31,\n",
       "  31,\n",
       "  31,\n",
       "  31,\n",
       "  31,\n",
       "  31,\n",
       "  31,\n",
       "  31,\n",
       "  31,\n",
       "  31],\n",
       " [42,\n",
       "  46,\n",
       "  39,\n",
       "  45,\n",
       "  8,\n",
       "  45,\n",
       "  39,\n",
       "  45,\n",
       "  42,\n",
       "  45,\n",
       "  7,\n",
       "  45,\n",
       "  45,\n",
       "  45,\n",
       "  42,\n",
       "  47,\n",
       "  45,\n",
       "  45,\n",
       "  45,\n",
       "  45,\n",
       "  47,\n",
       "  42,\n",
       "  45,\n",
       "  45,\n",
       "  47,\n",
       "  45,\n",
       "  39,\n",
       "  45,\n",
       "  42,\n",
       "  45,\n",
       "  45,\n",
       "  45,\n",
       "  45,\n",
       "  45,\n",
       "  45,\n",
       "  45,\n",
       "  45,\n",
       "  45,\n",
       "  45,\n",
       "  47,\n",
       "  47,\n",
       "  45,\n",
       "  45,\n",
       "  45,\n",
       "  45,\n",
       "  45,\n",
       "  45,\n",
       "  42]]"
      ]
     },
     "execution_count": 47,
     "metadata": {},
     "output_type": "execute_result"
    }
   ],
   "source": [
    "node_features_lst[:5]"
   ]
  },
  {
   "cell_type": "code",
   "execution_count": null,
   "metadata": {},
   "outputs": [],
   "source": []
  }
 ],
 "metadata": {
  "kernelspec": {
   "display_name": "Python 3",
   "language": "python",
   "name": "python3"
  },
  "language_info": {
   "codemirror_mode": {
    "name": "ipython",
    "version": 3
   },
   "file_extension": ".py",
   "mimetype": "text/x-python",
   "name": "python",
   "nbconvert_exporter": "python",
   "pygments_lexer": "ipython3",
   "version": "3.7.4"
  }
 },
 "nbformat": 4,
 "nbformat_minor": 2
}
