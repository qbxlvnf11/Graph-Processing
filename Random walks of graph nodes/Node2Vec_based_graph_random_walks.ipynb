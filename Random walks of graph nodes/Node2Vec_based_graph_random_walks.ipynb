{
 "cells": [
  {
   "cell_type": "markdown",
   "metadata": {},
   "source": [
    "### - Install "
   ]
  },
  {
   "cell_type": "code",
   "execution_count": 1,
   "metadata": {},
   "outputs": [],
   "source": [
    "# !pip install node2vec"
   ]
  },
  {
   "cell_type": "markdown",
   "metadata": {},
   "source": [
    "### - Import"
   ]
  },
  {
   "cell_type": "code",
   "execution_count": 2,
   "metadata": {},
   "outputs": [],
   "source": [
    "import networkx as nx\n",
    "from node2vec import Node2Vec\n",
    "\n",
    "import numpy as np\n",
    "import matplotlib.pyplot as plt"
   ]
  },
  {
   "cell_type": "markdown",
   "metadata": {},
   "source": [
    "### - Example graph "
   ]
  },
  {
   "cell_type": "code",
   "execution_count": 3,
   "metadata": {},
   "outputs": [
    {
     "data": {
      "image/png": "[encoded data removed]",
      "text/plain": [
       "<Figure size 432x288 with 1 Axes>"
      ]
     },
     "metadata": {},
     "output_type": "display_data"
    },
    {
     "name": "stdout",
     "output_type": "stream",
     "text": [
      "[[0. 1. 1. 0. 1. 0.]\n",
      " [1. 0. 1. 0. 0. 1.]\n",
      " [1. 1. 0. 1. 1. 0.]\n",
      " [0. 0. 1. 0. 1. 0.]\n",
      " [1. 0. 1. 1. 0. 1.]\n",
      " [0. 1. 0. 0. 1. 0.]]\n"
     ]
    }
   ],
   "source": [
    "adj = np.array(\n",
    "    [[0., 1., 1., 0., 1., 0.], \n",
    "     [1., 0., 1., 0., 0., 1.],\n",
    "     [1., 1., 0., 1., 1., 0.],\n",
    "     [0., 0., 1., 0., 1., 0.],\n",
    "     [1., 0., 1., 1., 0., 1.],\n",
    "    [0., 1., 0., 0., 1., 0.]])\n",
    "G = nx.Graph(adj)\n",
    "nx.draw_networkx(G)\n",
    "plt.axis('off')\n",
    "plt.show()\n",
    "\n",
    "A = nx.to_numpy_matrix(G)\n",
    "print(A)"
   ]
  },
  {
   "cell_type": "markdown",
   "metadata": {},
   "source": [
    "### - Node2Vec\n",
    "- References: https://github.com/eliorc/node2vec"
   ]
  },
  {
   "cell_type": "code",
   "execution_count": 4,
   "metadata": {},
   "outputs": [
    {
     "name": "stderr",
     "output_type": "stream",
     "text": [
      "Computing transition probabilities: 100%|██████████| 6/6 [00:00<00:00, 6685.93it/s]\n",
      "Generating walks (CPU: 1): 100%|██████████| 5/5 [00:00<00:00, 1375.45it/s]\n"
     ]
    }
   ],
   "source": [
    "node2vec = Node2Vec(graph=G, # The first positional argument has to be a networkx graph. Node names must be all integers or all strings. On the output model they will always be strings.\n",
    "                    dimensions=50, # Embedding dimensions (default: 128)\n",
    "                    walk_length=3, # number of nodes in each walks \n",
    "                    num_walks=5, # Number of walks per node (default: 10)\n",
    "                    p = 1, # 전 꼭짓점으로 돌아올 가능성, 얼마나 주변을 잘 탐색하는가\n",
    "                    q = 0.0001, # 전 꼭짓점으로부터 멀어질 가능성, 얼마나 새로운 곳을 잘 탐색하는가\n",
    "                    weight_key=None, # On weighted graphs, this is the key for the weight attribute (default: 'weight')\n",
    "                    workers=1 # Number of workers for parallel execution (default: 1)\n",
    "                   )"
   ]
  },
  {
   "cell_type": "markdown",
   "metadata": {},
   "source": [
    "### -  Number of the random walk: num_walks * number of the node"
   ]
  },
  {
   "cell_type": "code",
   "execution_count": 5,
   "metadata": {},
   "outputs": [
    {
     "data": {
      "text/plain": [
       "30"
      ]
     },
     "execution_count": 5,
     "metadata": {},
     "output_type": "execute_result"
    }
   ],
   "source": [
    "len(node2vec.walks)"
   ]
  },
  {
   "cell_type": "markdown",
   "metadata": {},
   "source": [
    "### - Print random walk list"
   ]
  },
  {
   "cell_type": "code",
   "execution_count": 6,
   "metadata": {
    "scrolled": true
   },
   "outputs": [
    {
     "name": "stdout",
     "output_type": "stream",
     "text": [
      "['4', '3', '2']\n",
      "['5', '1', '2']\n",
      "['1', '5', '4']\n",
      "['3', '2', '0']\n",
      "['0', '4', '5']\n",
      "['2', '1', '5']\n",
      "['1', '2', '3']\n",
      "['4', '3', '2']\n",
      "['3', '4', '0']\n",
      "['0', '2', '3']\n",
      "['2', '4', '5']\n",
      "['5', '1', '0']\n",
      "['1', '0', '4']\n",
      "['3', '2', '0']\n",
      "['5', '1', '0']\n",
      "['4', '3', '4']\n",
      "['2', '0', '1']\n",
      "['0', '4', '5']\n",
      "['2', '4', '5']\n",
      "['4', '2', '1']\n",
      "['1', '2', '3']\n",
      "['3', '2', '0']\n",
      "['5', '1', '2']\n",
      "['0', '2', '3']\n",
      "['0', '4', '5']\n",
      "['2', '0', '4']\n",
      "['3', '4', '5']\n",
      "['1', '2', '3']\n",
      "['4', '3', '4']\n",
      "['5', '4', '0']\n"
     ]
    }
   ],
   "source": [
    "for i, random_walk in enumerate(node2vec.walks):\n",
    "    print(random_walk)"
   ]
  },
  {
   "cell_type": "code",
   "execution_count": 7,
   "metadata": {},
   "outputs": [
    {
     "name": "stdout",
     "output_type": "stream",
     "text": [
      "{4: [['4', '3', '2'], ['4', '3', '2'], ['4', '3', '4'], ['4', '2', '1'], ['4', '3', '4']], 5: [['5', '1', '2'], ['5', '1', '0'], ['5', '1', '0'], ['5', '1', '2'], ['5', '4', '0']], 1: [['1', '5', '4'], ['1', '2', '3'], ['1', '0', '4'], ['1', '2', '3'], ['1', '2', '3']], 3: [['3', '2', '0'], ['3', '4', '0'], ['3', '2', '0'], ['3', '2', '0'], ['3', '4', '5']], 0: [['0', '4', '5'], ['0', '2', '3'], ['0', '4', '5'], ['0', '2', '3'], ['0', '4', '5']], 2: [['2', '1', '5'], ['2', '4', '5'], ['2', '0', '1'], ['2', '4', '5'], ['2', '0', '4']]}\n"
     ]
    }
   ],
   "source": [
    "walk_dic = {}\n",
    "for i, random_walk in enumerate(node2vec.walks):\n",
    "    if not int(random_walk[0]) in walk_dic:\n",
    "        walk_dic[int(random_walk[0])] = []\n",
    "    walk_dic[int(random_walk[0])].append(random_walk)\n",
    "print(walk_dic)"
   ]
  },
  {
   "cell_type": "markdown",
   "metadata": {},
   "source": [
    "### - Analysis of random walk"
   ]
  },
  {
   "cell_type": "code",
   "execution_count": 8,
   "metadata": {},
   "outputs": [
    {
     "name": "stdout",
     "output_type": "stream",
     "text": [
      "[15, 12, 18, 14, 18, 13]\n"
     ]
    }
   ],
   "source": [
    "number_list = [0 for i in range(6)]\n",
    "for i, random_walk in enumerate(node2vec.walks):\n",
    "    for node in random_walk:\n",
    "        number_list[int(node)] += 1\n",
    "print(number_list)"
   ]
  },
  {
   "cell_type": "code",
   "execution_count": 9,
   "metadata": {},
   "outputs": [
    {
     "name": "stdout",
     "output_type": "stream",
     "text": [
      "[5, 5, 5, 5, 5, 5]\n"
     ]
    }
   ],
   "source": [
    "number_list = [0 for i in range(6)]\n",
    "for i, random_walk in enumerate(node2vec.walks):\n",
    "    number_list[int(random_walk[0])] += 1\n",
    "print(number_list)"
   ]
  },
  {
   "cell_type": "code",
   "execution_count": null,
   "metadata": {},
   "outputs": [],
   "source": []
  }
 ],
 "metadata": {
  "kernelspec": {
   "display_name": "Python 3",
   "language": "python",
   "name": "python3"
  },
  "language_info": {
   "codemirror_mode": {
    "name": "ipython",
    "version": 3
   },
   "file_extension": ".py",
   "mimetype": "text/x-python",
   "name": "python",
   "nbconvert_exporter": "python",
   "pygments_lexer": "ipython3",
   "version": "3.7.6"
  }
 },
 "nbformat": 4,
 "nbformat_minor": 4
}
